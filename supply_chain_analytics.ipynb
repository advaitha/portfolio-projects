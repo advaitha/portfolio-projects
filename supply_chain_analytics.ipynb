{
 "cells": [
  {
   "cell_type": "markdown",
   "metadata": {},
   "source": [
    "# Supply Chain Analytics"
   ]
  },
  {
   "cell_type": "markdown",
   "metadata": {},
   "source": [
    "+ Supply chain consists of all parties involved, directly or indirectly, in fulfilling a customers's request\n",
    "+ Linear programming is a tool for optimization\n",
    "+ Three components in LP - Decision variables, objective function, constraints\n",
    "+ Linear programming - only continuous\n",
    "+ Integer programming - only discrete or integers\n",
    "+ Mixed Integer Programming - Mix of Continuous and Discrete"
   ]
  },
  {
   "cell_type": "markdown",
   "metadata": {},
   "source": [
    "### PuLP Modeling"
   ]
  },
  {
   "cell_type": "markdown",
   "metadata": {},
   "source": [
    "+ Intialize Model\n",
    "+ Define Decision variables\n",
    "+ Define Objective function\n",
    "+ Define Constraints\n",
    "+ Solve Model"
   ]
  },
  {
   "cell_type": "code",
   "execution_count": 6,
   "metadata": {},
   "outputs": [
    {
     "name": "stdout",
     "output_type": "stream",
     "text": [
      "produce 0.0 cake A\n",
      "produce 11.0 cake B\n"
     ]
    }
   ],
   "source": [
    "from pulp import *\n",
    "\n",
    "# Intialize the model\n",
    "model = LpProblem(\"Maximize Bakery Profits\", LpMaximize)\n",
    "\n",
    "# Define Decision Variables\n",
    "# LpVariable(name,lowBound = None, upBound = None, cat = 'Continuous', e = None)\n",
    "A = LpVariable('A', lowBound = 0, cat = 'Integer')\n",
    "B = LpVariable('B', lowBound  = 0, cat = 'Integer')\n",
    "\n",
    "# Objective function\n",
    "model += 20*A + 40*B\n",
    "\n",
    "# Define Constraints\n",
    "model += 0.5 * A + 1 * B <= 30\n",
    "model += 1 * A + 2.5 * B <= 60\n",
    "model += 1 * A + 2 * B <= 22\n",
    "\n",
    "# Solve model\n",
    "model.solve()\n",
    "print(\"produce {} cake A\".format(A.varValue))\n",
    "print(\"produce {} cake B\".format(B.varValue))"
   ]
  },
  {
   "cell_type": "code",
   "execution_count": null,
   "metadata": {},
   "outputs": [],
   "source": []
  }
 ],
 "metadata": {
  "kernelspec": {
   "display_name": "Python 3",
   "language": "python",
   "name": "python3"
  },
  "language_info": {
   "codemirror_mode": {
    "name": "ipython",
    "version": 3
   },
   "file_extension": ".py",
   "mimetype": "text/x-python",
   "name": "python",
   "nbconvert_exporter": "python",
   "pygments_lexer": "ipython3",
   "version": "3.7.6"
  }
 },
 "nbformat": 4,
 "nbformat_minor": 4
}
