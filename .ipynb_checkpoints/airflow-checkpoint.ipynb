{
 "cells": [
  {
   "cell_type": "code",
   "execution_count": null,
   "metadata": {},
   "outputs": [],
   "source": [
    "etl_dag = DAG (dag_id = 'etl_pipeline',\n",
    "              default_args = {'start_date':'2020-01-08'})"
   ]
  },
  {
   "cell_type": "code",
   "execution_count": null,
   "metadata": {},
   "outputs": [],
   "source": [
    "# airflow run command (shell)\n",
    "airflow run <dag_id> <task_id> <start_date> "
   ]
  },
  {
   "cell_type": "code",
   "execution_count": null,
   "metadata": {},
   "outputs": [],
   "source": [
    "from airflow.models import DAG\n",
    "from datetime import datetime\n",
    "\n",
    "default_arguments = {\n",
    "    'owner':'Thulasiram',\n",
    "    'email':'tulasiram.gunipati@gmail.com',\n",
    "    'start_date':datetime(2020, 1, 20),\n",
    "    'retries':2\n",
    "}\n",
    "\n",
    "etl_dag = DAG('etl_workflow', default_args = default_arguments)\n",
    "\n",
    "# airflow -h for descriptions\n",
    "# airflow list_dags to show all recognized DAGs\n",
    "\n",
    "part1 = BashOperator(\n",
    "    task_id = 'generate_random_number'\n",
    "    bash_command = 'echo $RANDOM',\n",
    "    dag = dag\n",
    ")"
   ]
  },
  {
   "cell_type": "code",
   "execution_count": null,
   "metadata": {},
   "outputs": [],
   "source": [
    "# Airflow command to start the server\n",
    "airflow webserver -p port_number"
   ]
  },
  {
   "cell_type": "code",
   "execution_count": null,
   "metadata": {},
   "outputs": [],
   "source": [
    "from airflow.models import DAG\n",
    "from airflow.operators.bash_opearator import BashOperator\n",
    "from airflow.operators.python_operator import PythonOperator\n",
    "from airflow.operators.http_operator import SimpleHttpOperator\n",
    "\n",
    "dag = DAG(\n",
    "dag_id = 'update_start',\n",
    "default_args = {\"start_date\":\"2019-10-01\"})\n",
    "\n",
    "part1 = BashOperator(\n",
    "    task_id = 'generate_random_number',\n",
    "    bash_command = 'echo $RANDOM',\n",
    "    dag = dag   \n",
    ")\n",
    "\n",
    "import sys\n",
    "def python_version():\n",
    "    return sys.version\n",
    "\n",
    "part2 = PythonOperator(\n",
    "    task_id = 'get_python_version',\n",
    "    python_callable = python_version,\n",
    "    dag = dag\n",
    ")\n",
    "\n",
    "part3 = SimpleHttpOperator(\n",
    "    task_id = 'query_server_for_external_ip',\n",
    "    endpoint = 'https://api.ipify.org',\n",
    "    method = 'GET',\n",
    "    dag = dag\n",
    ")\n",
    "\n",
    "part 3 >> part2"
   ]
  },
  {
   "cell_type": "markdown",
   "metadata": {},
   "source": [
    "#### Operators"
   ]
  },
  {
   "cell_type": "code",
   "execution_count": null,
   "metadata": {},
   "outputs": [],
   "source": [
    "+ Operators are available in the airflow.operators / airflow.contrib.operators libraries\n",
    "+ Represents a single task in a workflow\n",
    "+ Run independently (usually)\n",
    "+ Generally do not share information\n",
    "+ Various operators to perform different tasks\n",
    "+ using BatchOperator we can move from running individual bash scripts to airflow "
   ]
  },
  {
   "cell_type": "markdown",
   "metadata": {},
   "source": [
    "#### Tasks"
   ]
  },
  {
   "cell_type": "markdown",
   "metadata": {},
   "source": [
    "+ Instances of operators\n",
    "+ Task Dependencies\n",
    "+ Reffered to upstream or downstream\n",
    "+ Defined using bitshift operators\n",
    "+ >> upstream operator\n",
    "+ << downstream operator"
   ]
  },
  {
   "cell_type": "code",
   "execution_count": null,
   "metadata": {},
   "outputs": [],
   "source": [
    "# Define a new pull_sales task\n",
    "pull_sales = BashOperator(\n",
    "    task_id='pullsales_task',\n",
    "    bash_command = 'wget https://salestracking/latestinfo?json',\n",
    "    dag=analytics_dag\n",
    ")\n",
    "\n",
    "# Set pull_sales to run prior to cleanup\n",
    "pull_sales >> cleanup\n",
    "\n",
    "# Configure consolidate to run after cleanup\n",
    "cleanup >> consolidate\n",
    "\n",
    "# Set push_data to run last\n",
    "consolidate >> push_data"
   ]
  },
  {
   "cell_type": "code",
   "execution_count": null,
   "metadata": {},
   "outputs": [],
   "source": [
    "from airflow.operators.python_operator import PythonOperator\n",
    "def sleep(length_of_time):\n",
    "    time.sleep(length_of_time)\n",
    "    \n",
    "sleep_task = PythonOperator(\n",
    "    task_id = 'sleep',\n",
    "    python_callable = sleep,\n",
    "    op_kwargs = {'length_of_time':5},\n",
    "    dag = example_dag\n",
    ")\n"
   ]
  },
  {
   "cell_type": "code",
   "execution_count": null,
   "metadata": {},
   "outputs": [],
   "source": [
    "# Airflow contain emailOperator as well\n",
    "from airflow.operators.email_operator import EmailOperator\n",
    "\n",
    "email_task = EmailOperator(\n",
    "    task_id = 'email_sales_report',\n",
    "    to = 'sales_manager@example.com',\n",
    "    subject = \"Automated report\",\n",
    "    html_content = 'Attached is the latest report',\n",
    "    files = 'latest_sales.xlsx',\n",
    "    dag = example_dag\n",
    ")"
   ]
  },
  {
   "cell_type": "code",
   "execution_count": null,
   "metadata": {},
   "outputs": [],
   "source": [
    "# Code to download data from url\n",
    "\n",
    "def pull_file(URL, savepath):\n",
    "    r = requests.get(URL)\n",
    "    with open(savepath, 'wb') as f:\n",
    "        f.write(r.content)   \n",
    "    # Use the print method for logging\n",
    "    print(f\"File pulled from {URL} and saved to {savepath}\")\n",
    "\n",
    "from airflow.operators.python_operator import PythonOperator\n",
    "\n",
    "# Create the task\n",
    "pull_file_task = PythonOperator(\n",
    "    task_id='pull_file',\n",
    "    # Add the callable\n",
    "    python_callable=pull_file,\n",
    "    # Define the arguments\n",
    "    op_kwargs={'URL':'http://dataserver/sales.json', 'savepath':'latestsales.json'},\n",
    "    dag=process_sales_dag\n",
    ")"
   ]
  },
  {
   "cell_type": "markdown",
   "metadata": {},
   "source": [
    "#### Scheduling "
   ]
  },
  {
   "cell_type": "code",
   "execution_count": null,
   "metadata": {},
   "outputs": [],
   "source": [
    "start_date - Date / time to initially schedule the DAG run\n",
    "end_date - Optional attribute for when to stop running new DAG instances\n",
    "max_tries - How many attempts to make\n",
    "schedule_interval - How often to run - cron syntax or built in presets\n",
    "\n",
    "#### cron syntax\n",
    "minute - (0 - 59)\n",
    "hour - (0 - 23)\n",
    "day of the month - (1 - 31)\n",
    "month - (1 - 12)\n",
    "day of the week - (0 - 6)(sunday to saturday)\n",
    "\n",
    "# preset    cron equivalent\n",
    "@hourly     0 * * * *\n",
    "@daily      0 0 * * *\n",
    "@weekly     0 0 * * 0\n",
    "None - used for manual triggered DAGs\n",
    "@once - schedule only once"
   ]
  },
  {
   "cell_type": "code",
   "execution_count": null,
   "metadata": {},
   "outputs": [],
   "source": [
    "# Update the scheduling arguments as defined\n",
    "default_args = {\n",
    "  'owner': 'Engineering',\n",
    "  'start_date': datetime(2019, 11, 1),\n",
    "  'email': ['airflowresults@datacamp.com'],\n",
    "  'email_on_failure': False,\n",
    "  'email_on_retry': False,\n",
    "  'retries': 3,\n",
    "  'retry_delay': timedelta(minutes=20)\n",
    "}\n",
    "\n",
    "# schedule for every wednesday at 12.30\n",
    "dag = DAG('update_dataflows', default_args=default_args, schedule_interval='30 12 * * 3')"
   ]
  },
  {
   "cell_type": "markdown",
   "metadata": {},
   "source": [
    "#### sensor"
   ]
  },
  {
   "cell_type": "markdown",
   "metadata": {},
   "source": [
    "+ An operator that waits for a certain condition to be true\n",
    "+ Can be defined how often to check for the condition to be true\n",
    "+ They are a type of operators and can be assigned to tasks"
   ]
  },
  {
   "cell_type": "code",
   "execution_count": null,
   "metadata": {},
   "outputs": [],
   "source": [
    "from airflow.sensors.base_sensor_operator\n",
    "mode = 'poke' run repeatedly\n",
    "mode = 'reschedule' - Give up a task slot and try again later\n",
    "timeout in seconds\n",
    "Sensors also consists of operator agruments"
   ]
  },
  {
   "cell_type": "code",
   "execution_count": null,
   "metadata": {},
   "outputs": [],
   "source": [
    "# File sensor\n",
    "from airflow.contrib.sensors.file_sensor import FileSensor\n",
    "file_sensor_task = FileSensor(task_id = 'file_sense',\n",
    "                             filepath = 'salesdata.csv',\n",
    "                             poke_interval = 300,\n",
    "                             dag = sales_report_dag)\n",
    "init_sales_cleanup >> file_sensor_task >> generate_report\n",
    "\n",
    "# ExternalTaskSensor - wait for a task in another DAG to complete\n",
    "# HttpSensor - Request a web URL and check for content\n",
    "# SqlSensor - Runs a SQL query to check for content"
   ]
  },
  {
   "cell_type": "markdown",
   "metadata": {},
   "source": [
    "##### When to use a Sensor\n",
    "+ Uncertain when it will be true\n",
    "+ If failure not immediately desired\n",
    "+ To add task repetition without loops"
   ]
  },
  {
   "cell_type": "markdown",
   "metadata": {},
   "source": [
    "#### Executors"
   ]
  },
  {
   "cell_type": "code",
   "execution_count": null,
   "metadata": {},
   "outputs": [],
   "source": [
    "+ Executors run tasks\n",
    "+ Example executors - SequentialExecutor, LocalExecutor, CeleryExecutor\n",
    "+ We can know the type of executor by looking at the airflow.cfg file\n",
    "+ cat airflow/airflow.cfg | grep \"executor =\"\n",
    "+ we can also know this from airflow list_dags"
   ]
  },
  {
   "cell_type": "code",
   "execution_count": null,
   "metadata": {},
   "outputs": [],
   "source": []
  }
 ],
 "metadata": {
  "kernelspec": {
   "display_name": "Python 3",
   "language": "python",
   "name": "python3"
  },
  "language_info": {
   "codemirror_mode": {
    "name": "ipython",
    "version": 3
   },
   "file_extension": ".py",
   "mimetype": "text/x-python",
   "name": "python",
   "nbconvert_exporter": "python",
   "pygments_lexer": "ipython3",
   "version": "3.7.6"
  }
 },
 "nbformat": 4,
 "nbformat_minor": 4
}
