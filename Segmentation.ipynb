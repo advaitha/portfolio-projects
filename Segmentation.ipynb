{
 "cells": [
  {
   "cell_type": "markdown",
   "metadata": {},
   "source": [
    "# Customer Segmentation"
   ]
  },
  {
   "cell_type": "markdown",
   "metadata": {},
   "source": [
    "#### Three types of cohorts:-\n",
    "+ Time cohorts\n",
    "+ Behavior cohorts\n",
    "+ Size cohorts"
   ]
  },
  {
   "cell_type": "markdown",
   "metadata": {},
   "source": [
    "## Time cohorts"
   ]
  },
  {
   "cell_type": "code",
   "execution_count": null,
   "metadata": {},
   "outputs": [],
   "source": [
    "def get_month(x): return dt.datetime(x.year, x.month, 1) #01 day of month and year\n",
    "online['InvoiceMonth'] = online['InvoiceDate'].apply(get_month)\n",
    "grouping = online.groupby('customerID')['InvoiceMonth']\n",
    "online['cohortMonth'] = grouping.transform('min')\n",
    "online.head()"
   ]
  },
  {
   "cell_type": "code",
   "execution_count": null,
   "metadata": {},
   "outputs": [],
   "source": [
    "# Function to extract year, month and day integer values\n",
    "def get_date_int(df, column):\n",
    "    year = df[column].dt.year\n",
    "    month = df[column].dt.month\n",
    "    day = df[column].dt.day\n",
    "    return year, month, day"
   ]
  },
  {
   "cell_type": "code",
   "execution_count": null,
   "metadata": {},
   "outputs": [],
   "source": [
    "# Assign time offset value\n",
    "invoice_year, invoice_month, _ = get_date_int(online, 'InvoiceMonth')\n",
    "cohort_year, cohort_month, _ = det_date_int(online,'cohortMonth')\n",
    "years_diff = invoice_year - cohort_year\n",
    "months_diff = invoice_month - cohort_month\n",
    "online['CohortIndex'] = years_diff * 12 + months_diff + 1"
   ]
  },
  {
   "cell_type": "code",
   "execution_count": null,
   "metadata": {},
   "outputs": [],
   "source": [
    "grouping = online.groupby(['CohortMonth','CohortIndex'])\n",
    "cohort_data = grouping['CustomerID'].apply(pd.Series.nunique)\n",
    "cohort_data = cohort_data.reset_index()\n",
    "cohort_counts = cohort_data.pivot(index = 'CohortMonth',\n",
    "                                 columns = 'CohortIndex',\n",
    "                                 values = 'CustomerID')"
   ]
  },
  {
   "cell_type": "markdown",
   "metadata": {},
   "source": [
    "#### Calculate the retention rates"
   ]
  },
  {
   "cell_type": "markdown",
   "metadata": {},
   "source": [
    "cohort_sizes = cohort_counts.iloc[:,0]\n",
    "retention = cohort_counts.divide(cohort_sizes,axis = 0)\n",
    "retention.round(3)*100"
   ]
  },
  {
   "cell_type": "markdown",
   "metadata": {},
   "source": [
    "#### Visualize the retention rates"
   ]
  },
  {
   "cell_type": "code",
   "execution_count": null,
   "metadata": {},
   "outputs": [],
   "source": [
    "import seaborn as sns\n",
    "import matplotlib.pyplot as plt\n",
    "plt.figure(figsize = (10,8))\n",
    "plt.title('Retention rates')\n",
    "sns.heatmap(data = retention,\n",
    "           annot = True,\n",
    "           fmt = '.0%'\n",
    "           vmin = 0.0,\n",
    "           vmax = 0.5,\n",
    "           cmap = 'BuGn')\n",
    "plt.show()"
   ]
  },
  {
   "cell_type": "markdown",
   "metadata": {},
   "source": [
    "## RFM Segmentation"
   ]
  },
  {
   "cell_type": "markdown",
   "metadata": {},
   "source": [
    "RFM values can be grouped in several ways\n",
    "+ percentiles\n",
    "+ pareto 80/20 cut\n",
    "+ custom - based on business knowledge"
   ]
  },
  {
   "cell_type": "code",
   "execution_count": null,
   "metadata": {},
   "outputs": [],
   "source": [
    "# Based on quartiles\n",
    "spend_quartiles = pd.qcut(data['Spend'], q = 4, lables = range(1,5))\n",
    "data['Spend_quartile'] = spend_quartiles\n",
    "data.sort_values('Spend')"
   ]
  },
  {
   "cell_type": "code",
   "execution_count": null,
   "metadata": {},
   "outputs": [],
   "source": [
    "# Labels in case of Recency (Lower the recency, higher the quartile number)\n",
    "r_labels = list(range(4, 0, -1))\n",
    "# String labels can also be created like this\n",
    "r_labels = ['Active','Lapsed','Inactive','Churned']\n",
    "recency_quartiles = pd.qcut(data['Recency_Days'], q=4, labels = r_labels)\n",
    "data['Recency_Quartile'] = recency_quartiles\n",
    "data.sort_values('Recency_Days')"
   ]
  },
  {
   "cell_type": "markdown",
   "metadata": {},
   "source": [
    "#### Create a hypothetical snapshot_day"
   ]
  },
  {
   "cell_type": "code",
   "execution_count": null,
   "metadata": {},
   "outputs": [],
   "source": [
    "snapshot_date = max(online.InvoiceDate) + datetime.timedelta(days = 1)"
   ]
  },
  {
   "cell_type": "code",
   "execution_count": null,
   "metadata": {},
   "outputs": [],
   "source": [
    "# Aggregate data on a customer level\n",
    "datamart = online.groupby(['CustomerID']).agg({\n",
    "    'InvoiceDate': lambda x:(snapshot_date - x.max()).days,\n",
    "    'InvoiceNo':'count',\n",
    "    'TotalSum':'sum'})\n",
    "\n",
    "# Rename columns for easier interpretation\n",
    "datamart.rename(columns = {'InvoiceDate':'Recency',\n",
    "                          'InvoiceNo':'Frequency',\n",
    "                          'TotalSum':'MonetaryValue'}, inplace = True     )"
   ]
  },
  {
   "cell_type": "code",
   "execution_count": null,
   "metadata": {},
   "outputs": [],
   "source": [
    "### creating quartiles\n",
    "f_labels = range(1,5)\n",
    "f_quartiles = pd.qcut(datamart['Frequency'],4,labels = f_labels)\n",
    "datamart = datamart.assign(F = f_quartiles.values)"
   ]
  },
  {
   "cell_type": "markdown",
   "metadata": {},
   "source": [
    "#### Build RFM Segment and RFM score"
   ]
  },
  {
   "cell_type": "code",
   "execution_count": null,
   "metadata": {},
   "outputs": [],
   "source": [
    "# Concatenate RFM quartile values to RFM_Segment\n",
    "# Sum RFM quartiles values to RFM_Score\n",
    "datamart['RFM_Segment'] = datamart.apply(join_rfm, axis = 1)\n",
    "datamart['RFM_Score'] = datamart[['R','F','M']].sum(axis = 1)"
   ]
  },
  {
   "cell_type": "code",
   "execution_count": 5,
   "metadata": {},
   "outputs": [
    {
     "name": "stdout",
     "output_type": "stream",
     "text": [
      "range(4, 0, -1)\n"
     ]
    }
   ],
   "source": [
    "print(range(4,0,-1))"
   ]
  },
  {
   "cell_type": "code",
   "execution_count": 6,
   "metadata": {},
   "outputs": [
    {
     "data": {
      "text/plain": [
       "range(4, 0, -1)"
      ]
     },
     "execution_count": 6,
     "metadata": {},
     "output_type": "execute_result"
    }
   ],
   "source": [
    "range(4,0,-1)"
   ]
  },
  {
   "cell_type": "code",
   "execution_count": null,
   "metadata": {},
   "outputs": [],
   "source": [
    "# Calculate the size of the segment\n",
    "datamart.groupby('RFM_Segment').size().sort_values(ascending = False)[:10]"
   ]
  },
  {
   "cell_type": "code",
   "execution_count": null,
   "metadata": {},
   "outputs": [],
   "source": [
    "# select bottom RFM segment '111' and view top 5 rows\n",
    "datamart[datamart['RFM_Segment']=='111'][:5]"
   ]
  },
  {
   "cell_type": "code",
   "execution_count": null,
   "metadata": {},
   "outputs": [],
   "source": [
    "datamart.groupby('RFM_Score').agg({\n",
    "    'Recency':'mean',\n",
    "    'Frequency':'mean',\n",
    "    'MonetaryValue':['mean','count']})\n",
    "    .round(1)"
   ]
  },
  {
   "cell_type": "code",
   "execution_count": null,
   "metadata": {},
   "outputs": [],
   "source": [
    "# Group customers into named segments\n",
    "# use RFM score to group customers into Gold, Silver and Bronze segments\n",
    "\n",
    "def segment_me(df):\n",
    "    if df['RFM_Score'] >= 9:\n",
    "        return 'Gold'\n",
    "    elif (df['RFM_Score'] == 5) and (df['RFM_Score'] < 9):\n",
    "        return 'Silver'\n",
    "    else:\n",
    "        return 'Bronze'\n",
    "    \n",
    "datamart['General_segment'] = datamart.apply(segment_me, axis = 1)"
   ]
  },
  {
   "cell_type": "markdown",
   "metadata": {},
   "source": [
    "### Data pre-processing for K-Means Clustering"
   ]
  },
  {
   "cell_type": "code",
   "execution_count": null,
   "metadata": {},
   "outputs": [],
   "source": []
  }
 ],
 "metadata": {
  "kernelspec": {
   "display_name": "Python 3",
   "language": "python",
   "name": "python3"
  },
  "language_info": {
   "codemirror_mode": {
    "name": "ipython",
    "version": 3
   },
   "file_extension": ".py",
   "mimetype": "text/x-python",
   "name": "python",
   "nbconvert_exporter": "python",
   "pygments_lexer": "ipython3",
   "version": "3.7.6"
  }
 },
 "nbformat": 4,
 "nbformat_minor": 4
}
