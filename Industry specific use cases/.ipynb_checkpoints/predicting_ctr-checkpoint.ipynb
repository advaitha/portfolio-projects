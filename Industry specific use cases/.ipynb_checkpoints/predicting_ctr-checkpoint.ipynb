{
 "cells": [
  {
   "cell_type": "code",
   "execution_count": 1,
   "metadata": {},
   "outputs": [],
   "source": [
    "import pandas as pd"
   ]
  },
  {
   "cell_type": "code",
   "execution_count": 41,
   "metadata": {},
   "outputs": [],
   "source": [
    "# Read the data\n",
    "df = pd.read_csv(\"sample_data.csv\")"
   ]
  },
  {
   "cell_type": "code",
   "execution_count": 6,
   "metadata": {},
   "outputs": [
    {
     "data": {
      "text/html": [
       "<div>\n",
       "<style scoped>\n",
       "    .dataframe tbody tr th:only-of-type {\n",
       "        vertical-align: middle;\n",
       "    }\n",
       "\n",
       "    .dataframe tbody tr th {\n",
       "        vertical-align: top;\n",
       "    }\n",
       "\n",
       "    .dataframe thead th {\n",
       "        text-align: right;\n",
       "    }\n",
       "</style>\n",
       "<table border=\"1\" class=\"dataframe\">\n",
       "  <thead>\n",
       "    <tr style=\"text-align: right;\">\n",
       "      <th></th>\n",
       "      <th>Unnamed: 0</th>\n",
       "      <th>click</th>\n",
       "      <th>hour</th>\n",
       "      <th>C1</th>\n",
       "      <th>banner_pos</th>\n",
       "      <th>device_type</th>\n",
       "      <th>device_conn_type</th>\n",
       "      <th>C14</th>\n",
       "      <th>C15</th>\n",
       "      <th>C16</th>\n",
       "      <th>C17</th>\n",
       "      <th>C18</th>\n",
       "      <th>C19</th>\n",
       "      <th>C20</th>\n",
       "      <th>C21</th>\n",
       "      <th>device_model_int</th>\n",
       "    </tr>\n",
       "  </thead>\n",
       "  <tbody>\n",
       "    <tr>\n",
       "      <th>0</th>\n",
       "      <td>0</td>\n",
       "      <td>0</td>\n",
       "      <td>14102100</td>\n",
       "      <td>1005</td>\n",
       "      <td>0</td>\n",
       "      <td>1</td>\n",
       "      <td>2</td>\n",
       "      <td>15706</td>\n",
       "      <td>320</td>\n",
       "      <td>50</td>\n",
       "      <td>1722</td>\n",
       "      <td>0</td>\n",
       "      <td>35</td>\n",
       "      <td>-1</td>\n",
       "      <td>79</td>\n",
       "      <td>-4536565594672005814</td>\n",
       "    </tr>\n",
       "    <tr>\n",
       "      <th>1</th>\n",
       "      <td>1</td>\n",
       "      <td>0</td>\n",
       "      <td>14102100</td>\n",
       "      <td>1005</td>\n",
       "      <td>0</td>\n",
       "      <td>1</td>\n",
       "      <td>0</td>\n",
       "      <td>15704</td>\n",
       "      <td>320</td>\n",
       "      <td>50</td>\n",
       "      <td>1722</td>\n",
       "      <td>0</td>\n",
       "      <td>35</td>\n",
       "      <td>100084</td>\n",
       "      <td>79</td>\n",
       "      <td>-80052322344914806</td>\n",
       "    </tr>\n",
       "    <tr>\n",
       "      <th>2</th>\n",
       "      <td>2</td>\n",
       "      <td>0</td>\n",
       "      <td>14102100</td>\n",
       "      <td>1005</td>\n",
       "      <td>0</td>\n",
       "      <td>1</td>\n",
       "      <td>0</td>\n",
       "      <td>15704</td>\n",
       "      <td>320</td>\n",
       "      <td>50</td>\n",
       "      <td>1722</td>\n",
       "      <td>0</td>\n",
       "      <td>35</td>\n",
       "      <td>100084</td>\n",
       "      <td>79</td>\n",
       "      <td>-3130634972019121531</td>\n",
       "    </tr>\n",
       "    <tr>\n",
       "      <th>3</th>\n",
       "      <td>3</td>\n",
       "      <td>0</td>\n",
       "      <td>14102100</td>\n",
       "      <td>1005</td>\n",
       "      <td>0</td>\n",
       "      <td>1</td>\n",
       "      <td>0</td>\n",
       "      <td>15706</td>\n",
       "      <td>320</td>\n",
       "      <td>50</td>\n",
       "      <td>1722</td>\n",
       "      <td>0</td>\n",
       "      <td>35</td>\n",
       "      <td>100084</td>\n",
       "      <td>79</td>\n",
       "      <td>-8587292268327570678</td>\n",
       "    </tr>\n",
       "    <tr>\n",
       "      <th>4</th>\n",
       "      <td>4</td>\n",
       "      <td>0</td>\n",
       "      <td>14102100</td>\n",
       "      <td>1005</td>\n",
       "      <td>1</td>\n",
       "      <td>1</td>\n",
       "      <td>0</td>\n",
       "      <td>18993</td>\n",
       "      <td>320</td>\n",
       "      <td>50</td>\n",
       "      <td>2161</td>\n",
       "      <td>0</td>\n",
       "      <td>35</td>\n",
       "      <td>-1</td>\n",
       "      <td>157</td>\n",
       "      <td>-7699311560514132401</td>\n",
       "    </tr>\n",
       "  </tbody>\n",
       "</table>\n",
       "</div>"
      ],
      "text/plain": [
       "   Unnamed: 0  click      hour    C1  banner_pos  device_type  \\\n",
       "0           0      0  14102100  1005           0            1   \n",
       "1           1      0  14102100  1005           0            1   \n",
       "2           2      0  14102100  1005           0            1   \n",
       "3           3      0  14102100  1005           0            1   \n",
       "4           4      0  14102100  1005           1            1   \n",
       "\n",
       "   device_conn_type    C14  C15  C16   C17  C18  C19     C20  C21  \\\n",
       "0                 2  15706  320   50  1722    0   35      -1   79   \n",
       "1                 0  15704  320   50  1722    0   35  100084   79   \n",
       "2                 0  15704  320   50  1722    0   35  100084   79   \n",
       "3                 0  15706  320   50  1722    0   35  100084   79   \n",
       "4                 0  18993  320   50  2161    0   35      -1  157   \n",
       "\n",
       "      device_model_int  \n",
       "0 -4536565594672005814  \n",
       "1   -80052322344914806  \n",
       "2 -3130634972019121531  \n",
       "3 -8587292268327570678  \n",
       "4 -7699311560514132401  "
      ]
     },
     "execution_count": 6,
     "metadata": {},
     "output_type": "execute_result"
    }
   ],
   "source": [
    "df.head()"
   ]
  },
  {
   "cell_type": "code",
   "execution_count": 7,
   "metadata": {},
   "outputs": [
    {
     "data": {
      "text/plain": [
       "(100000, 16)"
      ]
     },
     "execution_count": 7,
     "metadata": {},
     "output_type": "execute_result"
    }
   ],
   "source": [
    "df.shape"
   ]
  },
  {
   "cell_type": "code",
   "execution_count": 9,
   "metadata": {},
   "outputs": [
    {
     "name": "stdout",
     "output_type": "stream",
     "text": [
      "Sample CTR :\n",
      " 0.1749\n"
     ]
    }
   ],
   "source": [
    "# Define X and y\n",
    "X = df.loc[:, ~df.columns.isin(['click'])]\n",
    "y = df.click\n",
    "\n",
    "# Sample CTR\n",
    "print(\"Sample CTR :\\n\", \n",
    "      y.sum()/len(y))"
   ]
  },
  {
   "cell_type": "code",
   "execution_count": 10,
   "metadata": {},
   "outputs": [
    {
     "name": "stdout",
     "output_type": "stream",
     "text": [
      "Distribution of device type: \n",
      "1    0.92597\n",
      "0    0.04212\n",
      "4    0.02979\n",
      "5    0.00212\n",
      "Name: device_type, dtype: float64\n"
     ]
    }
   ],
   "source": [
    "# Distribution of values for device type\n",
    "print(\"Distribution of device type: \")\n",
    "print(X.device_type.value_counts()/len(X))"
   ]
  },
  {
   "cell_type": "code",
   "execution_count": 11,
   "metadata": {},
   "outputs": [
    {
     "name": "stdout",
     "output_type": "stream",
     "text": [
      "CTR by device type: \n",
      "device_type\n",
      "0    0.00958\n",
      "1    0.16295\n",
      "4    0.00216\n",
      "5    0.00021\n",
      "Name: click, dtype: float64\n"
     ]
    }
   ],
   "source": [
    "# Sample CTR by device type \n",
    "print(\"CTR by device type: \")\n",
    "print(df.groupby('device_type')['click'].sum()/len(y))"
   ]
  },
  {
   "cell_type": "code",
   "execution_count": 12,
   "metadata": {},
   "outputs": [
    {
     "name": "stdout",
     "output_type": "stream",
     "text": [
      "Distribution of banner position: \n",
      "0    0.80249\n",
      "1    0.19714\n",
      "2    0.00021\n",
      "5    0.00010\n",
      "4    0.00006\n",
      "Name: banner_pos, dtype: float64\n"
     ]
    }
   ],
   "source": [
    "# Distribution of values for banner position\n",
    "print(\"Distribution of banner position: \")\n",
    "print(X.banner_pos.value_counts()/len(X))"
   ]
  },
  {
   "cell_type": "code",
   "execution_count": 13,
   "metadata": {},
   "outputs": [
    {
     "name": "stdout",
     "output_type": "stream",
     "text": [
      "CTR by banner position: \n",
      "banner_pos\n",
      "0    0.13599\n",
      "1    0.03883\n",
      "2    0.00003\n",
      "4    0.00001\n",
      "5    0.00004\n",
      "Name: click, dtype: float64\n"
     ]
    }
   ],
   "source": [
    "# Sample CTR by banner position\n",
    "print(\"CTR by banner position: \")\n",
    "print(df.groupby('banner_pos')['click'].sum()/len(y))"
   ]
  },
  {
   "cell_type": "code",
   "execution_count": 15,
   "metadata": {},
   "outputs": [
    {
     "name": "stdout",
     "output_type": "stream",
     "text": [
      "0.74125\n"
     ]
    }
   ],
   "source": [
    "from sklearn.model_selection import train_test_split\n",
    "from sklearn.tree import DecisionTreeClassifier\n",
    "from sklearn.metrics import accuracy_score\n",
    "\n",
    "# Define training and testing\n",
    "X_train, X_test, y_train, y_test = \\\n",
    "\ttrain_test_split(X, y, test_size = .2, random_state = 0)\n",
    "\n",
    "# Create decision tree classifier\n",
    "clf = DecisionTreeClassifier()\n",
    "\n",
    "# Train classifier - predict label and evaluate accuracy\n",
    "y_pred = clf.fit(X_train, y_train).predict(X_test) \n",
    "print(accuracy_score(y_test, y_pred))"
   ]
  },
  {
   "cell_type": "code",
   "execution_count": 22,
   "metadata": {},
   "outputs": [
    {
     "name": "stdout",
     "output_type": "stream",
     "text": [
      "0.5534160982908713\n"
     ]
    }
   ],
   "source": [
    "from sklearn.metrics import roc_curve\n",
    "from sklearn.metrics import auc\n",
    "\n",
    "# Train classifier - predict probability score and label\n",
    "y_score = clf.fit(X_train, y_train).predict_proba(X_test) \n",
    "y_pred = clf.fit(X_train, y_train).predict(X_test) \n",
    "\n",
    "# Get ROC curve metrics\n",
    "fpr, tpr, thresholds = roc_curve(y_test, y_score[:, 1])\n",
    "roc_auc = auc(fpr, tpr)\n",
    "print(roc_auc)"
   ]
  },
  {
   "cell_type": "markdown",
   "metadata": {},
   "source": [
    "#### Exploratory Data Analysis"
   ]
  },
  {
   "cell_type": "code",
   "execution_count": 24,
   "metadata": {},
   "outputs": [
    {
     "data": {
      "text/plain": [
       "Index(['Unnamed: 0', 'click', 'hour', 'C1', 'banner_pos', 'device_type',\n",
       "       'device_conn_type', 'C14', 'C15', 'C16', 'C17', 'C18', 'C19', 'C20',\n",
       "       'C21', 'device_model_int'],\n",
       "      dtype='object')"
      ]
     },
     "execution_count": 24,
     "metadata": {},
     "output_type": "execute_result"
    }
   ],
   "source": [
    "# check the columns\n",
    "df.columns"
   ]
  },
  {
   "cell_type": "code",
   "execution_count": 25,
   "metadata": {},
   "outputs": [
    {
     "data": {
      "text/plain": [
       "Unnamed: 0          int64\n",
       "click               int64\n",
       "hour                int64\n",
       "C1                  int64\n",
       "banner_pos          int64\n",
       "device_type         int64\n",
       "device_conn_type    int64\n",
       "C14                 int64\n",
       "C15                 int64\n",
       "C16                 int64\n",
       "C17                 int64\n",
       "C18                 int64\n",
       "C19                 int64\n",
       "C20                 int64\n",
       "C21                 int64\n",
       "device_model_int    int64\n",
       "dtype: object"
      ]
     },
     "execution_count": 25,
     "metadata": {},
     "output_type": "execute_result"
    }
   ],
   "source": [
    "df.dtypes"
   ]
  },
  {
   "cell_type": "code",
   "execution_count": 29,
   "metadata": {},
   "outputs": [
    {
     "data": {
      "text/html": [
       "<div>\n",
       "<style scoped>\n",
       "    .dataframe tbody tr th:only-of-type {\n",
       "        vertical-align: middle;\n",
       "    }\n",
       "\n",
       "    .dataframe tbody tr th {\n",
       "        vertical-align: top;\n",
       "    }\n",
       "\n",
       "    .dataframe thead th {\n",
       "        text-align: right;\n",
       "    }\n",
       "</style>\n",
       "<table border=\"1\" class=\"dataframe\">\n",
       "  <thead>\n",
       "    <tr style=\"text-align: right;\">\n",
       "      <th></th>\n",
       "      <th>Unnamed: 0</th>\n",
       "      <th>click</th>\n",
       "      <th>hour</th>\n",
       "      <th>C1</th>\n",
       "      <th>banner_pos</th>\n",
       "      <th>device_type</th>\n",
       "      <th>device_conn_type</th>\n",
       "      <th>C14</th>\n",
       "      <th>C15</th>\n",
       "      <th>C16</th>\n",
       "      <th>C17</th>\n",
       "      <th>C18</th>\n",
       "      <th>C19</th>\n",
       "      <th>C20</th>\n",
       "      <th>C21</th>\n",
       "      <th>device_model_int</th>\n",
       "    </tr>\n",
       "  </thead>\n",
       "  <tbody>\n",
       "    <tr>\n",
       "      <th>0</th>\n",
       "      <td>0</td>\n",
       "      <td>0</td>\n",
       "      <td>14102100</td>\n",
       "      <td>1005</td>\n",
       "      <td>0</td>\n",
       "      <td>1</td>\n",
       "      <td>2</td>\n",
       "      <td>15706</td>\n",
       "      <td>320</td>\n",
       "      <td>50</td>\n",
       "      <td>1722</td>\n",
       "      <td>0</td>\n",
       "      <td>35</td>\n",
       "      <td>-1</td>\n",
       "      <td>79</td>\n",
       "      <td>-4536565594672005814</td>\n",
       "    </tr>\n",
       "    <tr>\n",
       "      <th>1</th>\n",
       "      <td>1</td>\n",
       "      <td>0</td>\n",
       "      <td>14102100</td>\n",
       "      <td>1005</td>\n",
       "      <td>0</td>\n",
       "      <td>1</td>\n",
       "      <td>0</td>\n",
       "      <td>15704</td>\n",
       "      <td>320</td>\n",
       "      <td>50</td>\n",
       "      <td>1722</td>\n",
       "      <td>0</td>\n",
       "      <td>35</td>\n",
       "      <td>100084</td>\n",
       "      <td>79</td>\n",
       "      <td>-80052322344914806</td>\n",
       "    </tr>\n",
       "    <tr>\n",
       "      <th>2</th>\n",
       "      <td>2</td>\n",
       "      <td>0</td>\n",
       "      <td>14102100</td>\n",
       "      <td>1005</td>\n",
       "      <td>0</td>\n",
       "      <td>1</td>\n",
       "      <td>0</td>\n",
       "      <td>15704</td>\n",
       "      <td>320</td>\n",
       "      <td>50</td>\n",
       "      <td>1722</td>\n",
       "      <td>0</td>\n",
       "      <td>35</td>\n",
       "      <td>100084</td>\n",
       "      <td>79</td>\n",
       "      <td>-3130634972019121531</td>\n",
       "    </tr>\n",
       "    <tr>\n",
       "      <th>3</th>\n",
       "      <td>3</td>\n",
       "      <td>0</td>\n",
       "      <td>14102100</td>\n",
       "      <td>1005</td>\n",
       "      <td>0</td>\n",
       "      <td>1</td>\n",
       "      <td>0</td>\n",
       "      <td>15706</td>\n",
       "      <td>320</td>\n",
       "      <td>50</td>\n",
       "      <td>1722</td>\n",
       "      <td>0</td>\n",
       "      <td>35</td>\n",
       "      <td>100084</td>\n",
       "      <td>79</td>\n",
       "      <td>-8587292268327570678</td>\n",
       "    </tr>\n",
       "    <tr>\n",
       "      <th>4</th>\n",
       "      <td>4</td>\n",
       "      <td>0</td>\n",
       "      <td>14102100</td>\n",
       "      <td>1005</td>\n",
       "      <td>1</td>\n",
       "      <td>1</td>\n",
       "      <td>0</td>\n",
       "      <td>18993</td>\n",
       "      <td>320</td>\n",
       "      <td>50</td>\n",
       "      <td>2161</td>\n",
       "      <td>0</td>\n",
       "      <td>35</td>\n",
       "      <td>-1</td>\n",
       "      <td>157</td>\n",
       "      <td>-7699311560514132401</td>\n",
       "    </tr>\n",
       "    <tr>\n",
       "      <th>...</th>\n",
       "      <td>...</td>\n",
       "      <td>...</td>\n",
       "      <td>...</td>\n",
       "      <td>...</td>\n",
       "      <td>...</td>\n",
       "      <td>...</td>\n",
       "      <td>...</td>\n",
       "      <td>...</td>\n",
       "      <td>...</td>\n",
       "      <td>...</td>\n",
       "      <td>...</td>\n",
       "      <td>...</td>\n",
       "      <td>...</td>\n",
       "      <td>...</td>\n",
       "      <td>...</td>\n",
       "      <td>...</td>\n",
       "    </tr>\n",
       "    <tr>\n",
       "      <th>99995</th>\n",
       "      <td>99995</td>\n",
       "      <td>0</td>\n",
       "      <td>14102100</td>\n",
       "      <td>1005</td>\n",
       "      <td>0</td>\n",
       "      <td>1</td>\n",
       "      <td>0</td>\n",
       "      <td>21611</td>\n",
       "      <td>320</td>\n",
       "      <td>50</td>\n",
       "      <td>2480</td>\n",
       "      <td>3</td>\n",
       "      <td>297</td>\n",
       "      <td>100111</td>\n",
       "      <td>61</td>\n",
       "      <td>137884114573136964</td>\n",
       "    </tr>\n",
       "    <tr>\n",
       "      <th>99996</th>\n",
       "      <td>99996</td>\n",
       "      <td>0</td>\n",
       "      <td>14102100</td>\n",
       "      <td>1005</td>\n",
       "      <td>0</td>\n",
       "      <td>1</td>\n",
       "      <td>0</td>\n",
       "      <td>15702</td>\n",
       "      <td>320</td>\n",
       "      <td>50</td>\n",
       "      <td>1722</td>\n",
       "      <td>0</td>\n",
       "      <td>35</td>\n",
       "      <td>-1</td>\n",
       "      <td>79</td>\n",
       "      <td>-80052322344914806</td>\n",
       "    </tr>\n",
       "    <tr>\n",
       "      <th>99997</th>\n",
       "      <td>99997</td>\n",
       "      <td>1</td>\n",
       "      <td>14102100</td>\n",
       "      <td>1005</td>\n",
       "      <td>0</td>\n",
       "      <td>1</td>\n",
       "      <td>0</td>\n",
       "      <td>15702</td>\n",
       "      <td>320</td>\n",
       "      <td>50</td>\n",
       "      <td>1722</td>\n",
       "      <td>0</td>\n",
       "      <td>35</td>\n",
       "      <td>-1</td>\n",
       "      <td>79</td>\n",
       "      <td>-6842687763310561140</td>\n",
       "    </tr>\n",
       "    <tr>\n",
       "      <th>99998</th>\n",
       "      <td>99998</td>\n",
       "      <td>0</td>\n",
       "      <td>14102100</td>\n",
       "      <td>1005</td>\n",
       "      <td>0</td>\n",
       "      <td>1</td>\n",
       "      <td>0</td>\n",
       "      <td>15708</td>\n",
       "      <td>320</td>\n",
       "      <td>50</td>\n",
       "      <td>1722</td>\n",
       "      <td>0</td>\n",
       "      <td>35</td>\n",
       "      <td>-1</td>\n",
       "      <td>79</td>\n",
       "      <td>-3130634972019121531</td>\n",
       "    </tr>\n",
       "    <tr>\n",
       "      <th>99999</th>\n",
       "      <td>99999</td>\n",
       "      <td>0</td>\n",
       "      <td>14102100</td>\n",
       "      <td>1002</td>\n",
       "      <td>0</td>\n",
       "      <td>0</td>\n",
       "      <td>0</td>\n",
       "      <td>21665</td>\n",
       "      <td>320</td>\n",
       "      <td>50</td>\n",
       "      <td>2493</td>\n",
       "      <td>3</td>\n",
       "      <td>35</td>\n",
       "      <td>-1</td>\n",
       "      <td>117</td>\n",
       "      <td>-590231796978242250</td>\n",
       "    </tr>\n",
       "  </tbody>\n",
       "</table>\n",
       "<p>100000 rows × 16 columns</p>\n",
       "</div>"
      ],
      "text/plain": [
       "       Unnamed: 0  click      hour    C1  banner_pos  device_type  \\\n",
       "0               0      0  14102100  1005           0            1   \n",
       "1               1      0  14102100  1005           0            1   \n",
       "2               2      0  14102100  1005           0            1   \n",
       "3               3      0  14102100  1005           0            1   \n",
       "4               4      0  14102100  1005           1            1   \n",
       "...           ...    ...       ...   ...         ...          ...   \n",
       "99995       99995      0  14102100  1005           0            1   \n",
       "99996       99996      0  14102100  1005           0            1   \n",
       "99997       99997      1  14102100  1005           0            1   \n",
       "99998       99998      0  14102100  1005           0            1   \n",
       "99999       99999      0  14102100  1002           0            0   \n",
       "\n",
       "       device_conn_type    C14  C15  C16   C17  C18  C19     C20  C21  \\\n",
       "0                     2  15706  320   50  1722    0   35      -1   79   \n",
       "1                     0  15704  320   50  1722    0   35  100084   79   \n",
       "2                     0  15704  320   50  1722    0   35  100084   79   \n",
       "3                     0  15706  320   50  1722    0   35  100084   79   \n",
       "4                     0  18993  320   50  2161    0   35      -1  157   \n",
       "...                 ...    ...  ...  ...   ...  ...  ...     ...  ...   \n",
       "99995                 0  21611  320   50  2480    3  297  100111   61   \n",
       "99996                 0  15702  320   50  1722    0   35      -1   79   \n",
       "99997                 0  15702  320   50  1722    0   35      -1   79   \n",
       "99998                 0  15708  320   50  1722    0   35      -1   79   \n",
       "99999                 0  21665  320   50  2493    3   35      -1  117   \n",
       "\n",
       "          device_model_int  \n",
       "0     -4536565594672005814  \n",
       "1       -80052322344914806  \n",
       "2     -3130634972019121531  \n",
       "3     -8587292268327570678  \n",
       "4     -7699311560514132401  \n",
       "...                    ...  \n",
       "99995   137884114573136964  \n",
       "99996   -80052322344914806  \n",
       "99997 -6842687763310561140  \n",
       "99998 -3130634972019121531  \n",
       "99999  -590231796978242250  \n",
       "\n",
       "[100000 rows x 16 columns]"
      ]
     },
     "execution_count": 29,
     "metadata": {},
     "output_type": "execute_result"
    }
   ],
   "source": [
    "df.select_dtypes(include = ['int64','float'])"
   ]
  },
  {
   "cell_type": "code",
   "execution_count": null,
   "metadata": {},
   "outputs": [],
   "source": [
    "# Print columns\n",
    "print(df.columns)\n",
    "\n",
    "# Print data types of columns\n",
    "print(df.dtypes)\n",
    "\n",
    "# Select and print numeric columns\n",
    "numeric_df = df.select_dtypes(include=['int', 'float'])\n",
    "print(numeric_df.columns)\n",
    "\n",
    "\n",
    "# Select and print categorical columns \n",
    "categorical_df = df.select_dtypes(include=['object'])\n",
    "print(categorical_df.columns)"
   ]
  },
  {
   "cell_type": "code",
   "execution_count": 30,
   "metadata": {},
   "outputs": [
    {
     "name": "stdout",
     "output_type": "stream",
     "text": [
      "<class 'pandas.core.frame.DataFrame'>\n",
      "RangeIndex: 100000 entries, 0 to 99999\n",
      "Data columns (total 16 columns):\n",
      "Unnamed: 0          100000 non-null int64\n",
      "click               100000 non-null int64\n",
      "hour                100000 non-null int64\n",
      "C1                  100000 non-null int64\n",
      "banner_pos          100000 non-null int64\n",
      "device_type         100000 non-null int64\n",
      "device_conn_type    100000 non-null int64\n",
      "C14                 100000 non-null int64\n",
      "C15                 100000 non-null int64\n",
      "C16                 100000 non-null int64\n",
      "C17                 100000 non-null int64\n",
      "C18                 100000 non-null int64\n",
      "C19                 100000 non-null int64\n",
      "C20                 100000 non-null int64\n",
      "C21                 100000 non-null int64\n",
      "device_model_int    100000 non-null int64\n",
      "dtypes: int64(16)\n",
      "memory usage: 12.2 MB\n"
     ]
    }
   ],
   "source": [
    "# Missing values\n",
    "df.info()"
   ]
  },
  {
   "cell_type": "code",
   "execution_count": 33,
   "metadata": {},
   "outputs": [
    {
     "data": {
      "text/plain": [
       "Unnamed: 0          0\n",
       "click               0\n",
       "hour                0\n",
       "C1                  0\n",
       "banner_pos          0\n",
       "device_type         0\n",
       "device_conn_type    0\n",
       "C14                 0\n",
       "C15                 0\n",
       "C16                 0\n",
       "C17                 0\n",
       "C18                 0\n",
       "C19                 0\n",
       "C20                 0\n",
       "C21                 0\n",
       "device_model_int    0\n",
       "dtype: int64"
      ]
     },
     "execution_count": 33,
     "metadata": {},
     "output_type": "execute_result"
    }
   ],
   "source": [
    "df.isnull().sum(axis = 0)"
   ]
  },
  {
   "cell_type": "code",
   "execution_count": 34,
   "metadata": {},
   "outputs": [
    {
     "data": {
      "text/plain": [
       "0"
      ]
     },
     "execution_count": 34,
     "metadata": {},
     "output_type": "execute_result"
    }
   ],
   "source": [
    "df.isnull().sum(axis = 0).sum()"
   ]
  },
  {
   "cell_type": "code",
   "execution_count": null,
   "metadata": {},
   "outputs": [],
   "source": [
    "# Print info\n",
    "print(df.info())\n",
    "\n",
    "# Print missing values by column \n",
    "print(df.isnull().sum(axis = 0))\n",
    "\n",
    "# Print total number of missing values in rows\n",
    "print(df.isnull().sum(axis = 1).sum())"
   ]
  },
  {
   "cell_type": "code",
   "execution_count": null,
   "metadata": {},
   "outputs": [],
   "source": [
    "# Distribution of values for banner position\n",
    "print(\"Distribution of banner position: \")\n",
    "print(X.banner_pos.value_counts()/len(X))\n",
    "\n",
    "# Sample CTR by banner position\n",
    "print(\"CTR by banner position: \")\n",
    "print(df.groupby('banner_pos')['click'].sum()/len(y))"
   ]
  },
  {
   "cell_type": "code",
   "execution_count": null,
   "metadata": {},
   "outputs": [],
   "source": [
    "# looking at distributions\n",
    "df.groupby(['search_engine_type',\n",
    "           'click']).size()"
   ]
  },
  {
   "cell_type": "code",
   "execution_count": null,
   "metadata": {},
   "outputs": [],
   "source": [
    "df.grouby(['search_engine_type','click']).size().unstack()\n",
    "df.reset_index()"
   ]
  },
  {
   "cell_type": "code",
   "execution_count": null,
   "metadata": {},
   "outputs": [],
   "source": [
    "# Construct bar chart for clicks by search engine type\n",
    "se_df = df.groupby(['search_engine_type', 'click']).size().unstack()\n",
    "se_df.plot(kind = 'bar', title = 'Value frequency for search engine type')\n",
    "plt.show()\n",
    "\n",
    "# Reset index and rename columns\n",
    "se_df = se_df.reset_index()\n",
    "se_df.rename(columns = {0: 'non_clicks', 1: 'clicks'}, inplace = True)\n",
    "\n",
    "# Compute CTR using clicks and non clicks\n",
    "se_df['total'] = se_df['non_clicks'] + se_df['clicks']\n",
    "se_df['CTR'] = se_df['clicks'] / se_df['total']\n",
    "\n",
    "# Print CTR by search engine type\n",
    "print(se_df[['search_engine_type', 'clicks', 'total', 'CTR']])"
   ]
  },
  {
   "cell_type": "code",
   "execution_count": 43,
   "metadata": {},
   "outputs": [
    {
     "name": "stdout",
     "output_type": "stream",
     "text": [
      "   Unnamed: 0  click       hour    C1  banner_pos  device_type  \\\n",
      "0           0      0 2014-10-21  1005           0            1   \n",
      "1           1      0 2014-10-21  1005           0            1   \n",
      "2           2      0 2014-10-21  1005           0            1   \n",
      "3           3      0 2014-10-21  1005           0            1   \n",
      "4           4      0 2014-10-21  1005           1            1   \n",
      "\n",
      "   device_conn_type    C14  C15  C16   C17  C18  C19     C20  C21  \\\n",
      "0                 2  15706  320   50  1722    0   35      -1   79   \n",
      "1                 0  15704  320   50  1722    0   35  100084   79   \n",
      "2                 0  15704  320   50  1722    0   35  100084   79   \n",
      "3                 0  15706  320   50  1722    0   35  100084   79   \n",
      "4                 0  18993  320   50  2161    0   35      -1  157   \n",
      "\n",
      "      device_model_int  hour_of_day  \n",
      "0 -4536565594672005814            0  \n",
      "1   -80052322344914806            0  \n",
      "2 -3130634972019121531            0  \n",
      "3 -8587292268327570678            0  \n",
      "4 -7699311560514132401            0  \n"
     ]
    },
    {
     "data": {
      "image/png": "[encoded data removed]",
      "text/plain": [
       "<Figure size 864x432 with 1 Axes>"
      ]
     },
     "metadata": {
      "needs_background": "light"
     },
     "output_type": "display_data"
    }
   ],
   "source": [
    "from matplotlib import pyplot as plt\n",
    "import datetime as dt\n",
    "\n",
    "# Change the hour column to a datetime and extract hour of day\n",
    "df['hour'] = pd.to_datetime(df['hour'], format = '%y%m%d%H')\n",
    "df['hour_of_day'] = df['hour'].dt.hour\n",
    "# print(df.head(5))\n",
    "\n",
    "# Get and plot total clicks by hour of day\n",
    "df.groupby('hour_of_day')['click'].sum().plot.bar(figsize=(12,6))\n",
    "plt.ylabel('Number of clicks')\n",
    "plt.title('Number of clicks by hour of day')\n",
    "plt.show()"
   ]
  },
  {
   "cell_type": "code",
   "execution_count": null,
   "metadata": {},
   "outputs": [],
   "source": [
    "# Get categorical columns\n",
    "categorical_cols = df.select_dtypes(\n",
    "  include = ['object']).columns.tolist()\n",
    "print(\"Categorical columns: \")\n",
    "print(categorical_cols)\n",
    "\n",
    "# Iterate over categorical columns and apply hash function\n",
    "for col in categorical_cols:\n",
    "\tdf[col] = df[col].apply(lambda x: hash(x))\n",
    "\n",
    "# Print examples of new output\n",
    "print(df.head(5))"
   ]
  },
  {
   "cell_type": "code",
   "execution_count": null,
   "metadata": {},
   "outputs": [],
   "source": [
    "# Get counts of total and unique values for given features\n",
    "feature_list = [\"search_engine_type\", \"product_type\", \"advertiser_type\"]\n",
    "for feature in feature_list:\n",
    "\tprint(df[feature].count())\n",
    "\tprint(df[feature].nunique())\n",
    "\n",
    "# Define new features as counts\n",
    "new_feature_list = ['device_id', 'site_id'] + feature_list\n",
    "for new_feature in new_feature_list:\n",
    "  df[new_feature + '_count'] = df.groupby(\n",
    "    new_feature)['click'].transform(\"count\")\n",
    "print(df.head(5))"
   ]
  },
  {
   "cell_type": "code",
   "execution_count": null,
   "metadata": {},
   "outputs": [],
   "source": [
    "# Select numeric columns and print median variance\n",
    "num_df = df.select_dtypes(include=['int', 'float'])\n",
    "filter_cols = ['click', 'banner_pos', 'device_type',\n",
    "               'search_engine_type', 'product_type', 'advertiser_type']\n",
    "new_df = num_df[num_df.columns[~num_df.columns.isin(filter_cols)]]\n",
    "median = new_df.var().median()\n",
    "print(median)\n",
    "\n",
    "# Apply log normalization on columns with higher than median variance\n",
    "change_cols = new_df.columns[new_df.var() > median].tolist()\n",
    "new_df[change_cols] = new_df[change_cols].apply(\n",
    "  lambda x: np.log(x))\n",
    "print(new_df.var().median())"
   ]
  },
  {
   "cell_type": "code",
   "execution_count": null,
   "metadata": {},
   "outputs": [],
   "source": [
    "# Get non-categorical columns, with a filter\n",
    "num_df = df.select_dtypes(include=['int', 'float'])\n",
    "filter_cols = ['click', 'banner_pos', 'device_type',\n",
    "               'search_engine_type', 'product_type', 'advertiser_type']\n",
    "new_df = num_df[num_df.columns[~num_df.columns.isin(filter_cols)]]\n",
    "num_cols = new_df.columns\n",
    "\n",
    "# Transform columns using StandardScaler\n",
    "scaler = StandardScaler()\n",
    "df[num_cols] = scaler.fit_transform(df[num_cols])\n",
    "\n",
    "# Print mean and variance of transformed columns\n",
    "print(df[num_cols].mean())\n",
    "print(df[num_cols].var())"
   ]
  },
  {
   "cell_type": "code",
   "execution_count": null,
   "metadata": {},
   "outputs": [],
   "source": [
    "from sklearn.metrics import confusion_matrix\n",
    "\n",
    "# Set up classifier using training data to predict test data\n",
    "X_train, X_test, y_train, y_test = train_test_split(\n",
    "  X, y, test_size = .2, random_state = 0)\n",
    "clf = DecisionTreeClassifier()\n",
    "y_pred = clf.fit(X_train, y_train).predict(X_test) \n",
    "\n",
    "# Define confusion matrix and four categories\n",
    "conf_matrix = confusion_matrix(y_test, y_pred)\n",
    "tn = conf_matrix[0][0]\n",
    "fp = conf_matrix[0][1]\n",
    "fn = conf_matrix[1][0]\n",
    "tp = conf_matrix[1][1]\n",
    "\n",
    "print(\"TN: %s, FP: %s, FN: %s, TP: %s\" %(tn, fp, fn, tp))"
   ]
  },
  {
   "cell_type": "code",
   "execution_count": null,
   "metadata": {},
   "outputs": [],
   "source": [
    "# Compute confusion matrix and get four categories\n",
    "conf_matrix = confusion_matrix(y_test, y_pred)\n",
    "tn, fp, fn, tp = conf_matrix.ravel()\n",
    "\n",
    "# Calculate total return, total spent, and ROI\n",
    "r = 0.2\n",
    "cost = 0.05\n",
    "total_return = tp * r\n",
    "total_cost = (tp + fp) * cost \n",
    "roi = total_return / total_cost\n",
    "print(\"Total return: %s, Total cost: %s, ROI: %s\" %(\n",
    "  total_return, total_cost, roi))"
   ]
  },
  {
   "cell_type": "code",
   "execution_count": null,
   "metadata": {},
   "outputs": [],
   "source": [
    "# Set up training and testing split\n",
    "X_train, X_test, y_train, y_test = train_test_split(\n",
    "  X, y, test_size = .2, random_state = 0)\n",
    "\n",
    "# Create classifier and make predictions\n",
    "clf = DecisionTreeClassifier()\n",
    "y_pred = clf.fit(X_train, y_train).predict(X_test) \n",
    "\n",
    "# Evaluate precision and recall\n",
    "prec = precision_score(y_test, y_pred, average = 'weighted')\n",
    "recall = recall_score(y_test, y_pred, average = 'weighted')\n",
    "print(\"Precision: %s, Recall: %s\" %(prec, recall))"
   ]
  },
  {
   "cell_type": "code",
   "execution_count": null,
   "metadata": {},
   "outputs": [],
   "source": [
    "# Set up baseline predictions\n",
    "y_pred = np.asarray([0 for x in range(len(X_test))])\n",
    "\n",
    "# Look at confusion matrix\n",
    "print(\"Confusion matrix: \")\n",
    "print(confusion_matrix(y_test, y_pred))\n",
    "\n",
    "# Check precision and recall\n",
    "prec = precision_score(y_test, y_pred, average = 'weighted')\n",
    "recall = recall_score(y_test, y_pred, average = 'weighted')\n",
    "print(\"Precision: %s, Recall: %s\" %(prec, recall))"
   ]
  },
  {
   "cell_type": "code",
   "execution_count": null,
   "metadata": {},
   "outputs": [],
   "source": [
    "# Create and fit decision tree classifier\n",
    "clf = DecisionTreeClassifier()\n",
    "y_pred = clf.fit(X_train, y_train).predict(X_test) \n",
    "\n",
    "# Calculate total return, total spent, and ROI \n",
    "r, cost = 0.2, 0.05\n",
    "tn, fp, fn, tp = confusion_matrix(y_test, y_pred).ravel()\n",
    "total_return = tp * r\n",
    "total_spent = (tp + fp) * cost \n",
    "roi = total_return / total_spent\n",
    "print(\"Total return: %s, Total spent: %s, ROI: %s\" %(total_return, total_spent, roi))"
   ]
  },
  {
   "cell_type": "code",
   "execution_count": null,
   "metadata": {},
   "outputs": [],
   "source": [
    "# Iterate over different levels of max depth\n",
    "for max_depth_val in [2, 3, 5, 10, 15, 20]:\n",
    "  # Create and fit model\n",
    "  clf = DecisionTreeClassifier(max_depth = max_depth_val)\n",
    "  print(\"Evaluating tree with max_depth = %s\" %(max_depth_val))\n",
    "  y_pred = clf.fit(X_train, y_train).predict(X_test) \n",
    "  \n",
    "  # Evaluate confusion matrix, precision, recall\n",
    "  print(\"Confusion matrix: \")\n",
    "  print(confusion_matrix(y_test, y_pred))\n",
    "  prec = precision_score(y_test, y_pred, average = 'weighted')\n",
    "  recall = recall_score(y_test, y_pred, average = 'weighted')\n",
    "  print(\"Precision: %s, Recall: %s\" %(prec, recall))"
   ]
  },
  {
   "cell_type": "code",
   "execution_count": null,
   "metadata": {},
   "outputs": [],
   "source": [
    "# Create model \n",
    "clf = DecisionTreeClassifier()\n",
    "\n",
    "# Set up k-fold\n",
    "k_fold = KFold(n_splits = 4, random_state = 0)\n",
    "\n",
    "# Evaluate precision and recall for each fold\n",
    "precision = cross_val_score(\n",
    "  clf, X_train, y_train, cv = k_fold, scoring = 'precision_weighted')\n",
    "recall = cross_val_score(\n",
    "  clf, X_train, y_train, cv = k_fold, scoring = 'recall_weighted')\n",
    "print(\"Precision scores: %s\" %(precision)) \n",
    "print(\"Recall scores: %s\" %(recall))"
   ]
  },
  {
   "cell_type": "code",
   "execution_count": null,
   "metadata": {},
   "outputs": [],
   "source": [
    "# Iterate over different levels of max depth and set up k-fold\n",
    "for max_depth_val in [3, 5, 10]:\n",
    "  k_fold = KFold(n_splits = 4, random_state = 0)\n",
    "  clf = DecisionTreeClassifier(max_depth = max_depth_val)\n",
    "  print(\"Evaluating Decision Tree for max_depth = %s\" %(max_depth_val))\n",
    "  y_pred = clf.fit(X_train, y_train).predict(X_test) \n",
    "  \n",
    "  # Calculate precision for cross validation and test\n",
    "  cv_precision = cross_val_score(\n",
    "    clf, X_train, y_train, cv = k_fold, scoring = 'precision_weighted')\n",
    "  precision = precision_score(y_test, y_pred, average = 'weighted')\n",
    "  print(\"Cross validation Precision: %s\" %(cv_precision))\n",
    "  print(\"Test Precision: %s\" %(precision))"
   ]
  },
  {
   "cell_type": "code",
   "execution_count": null,
   "metadata": {},
   "outputs": [],
   "source": [
    "# Create random forest classifier with specified params\n",
    "clf = RandomForestClassifier(n_estimators = 50, max_depth = 5)\n",
    "\n",
    "# Train classifier - predict probability score and label\n",
    "y_score = clf.fit(X_train, y_train).predict_proba(X_test) \n",
    "y_pred = clf.fit(X_train, y_train).predict(X_test) \n",
    "\n",
    "# Get ROC curve metrics\n",
    "fpr, tpr, thresholds = roc_curve(y_test, y_score[:, 1])\n",
    "print(\"ROC of AUC: %s\"%(auc(fpr, tpr)))\n",
    "\n",
    "# Get precision and recall\n",
    "precision = precision_score(y_test, y_pred, average = 'weighted')\n",
    "recall = recall_score(y_test, y_pred, average = 'weighted')\n",
    "print(\"Precision: %s, Recall: %s\" %(precision, recall))"
   ]
  },
  {
   "cell_type": "code",
   "execution_count": null,
   "metadata": {},
   "outputs": [],
   "source": [
    "# Create list of hyperparameters \n",
    "n_estimators = [10, 50]\n",
    "max_depth = [5, 20]\n",
    "param_grid = {'n_estimators': n_estimators, 'max_depth': max_depth}\n",
    "\n",
    "# Use Grid search CV to find best parameters \n",
    "print(\"starting RF grid search.. \")\n",
    "rf = RandomForestClassifier()\n",
    "clf = GridSearchCV(estimator = rf, param_grid = param_grid, scoring = 'roc_auc')\n",
    "clf.fit(X_train, y_train)\n",
    "print(\"Best Score: \")\n",
    "print(clf.best_score_)\n",
    "print(\"Best Estimator: \")\n",
    "print(clf.best_estimator_)"
   ]
  },
  {
   "cell_type": "markdown",
   "metadata": {},
   "source": [
    "#### Deep learning"
   ]
  },
  {
   "cell_type": "code",
   "execution_count": null,
   "metadata": {},
   "outputs": [],
   "source": [
    "# Scale features and split into training and testing\n",
    "X = StandardScaler().fit_transform(X)\n",
    "X_train, X_test, y_train, y_test = train_test_split(\n",
    "  X, y, test_size = .2, random_state = 0)\n",
    "\n",
    "# Create classifier and produce predictions\n",
    "clf = MLPClassifier(hidden_layer_sizes = (8, ), max_iter = 100)\n",
    "y_score = clf.fit(X_train, y_train).predict_proba(X_test) \n",
    "y_pred = clf.fit(X_train, y_train).predict(X_test) \n",
    "\n",
    "# Get accuracy and AUC of ROC curve \n",
    "fpr, tpr, thresholds = roc_curve(y_test, y_score[:, 1])\n",
    "roc_auc = auc(fpr, tpr)\n",
    "print(\"Accuracy: %s\" %(accuracy_score(y_test, y_pred)))\n",
    "print(\"ROC of AUC curve: %s\" %(roc_auc))"
   ]
  },
  {
   "cell_type": "code",
   "execution_count": null,
   "metadata": {},
   "outputs": [],
   "source": [
    "# Loop over various max_iter configurations\n",
    "max_iter_list = [10, 20, 30]\n",
    "for max_iter in max_iter_list:\n",
    "\tclf = MLPClassifier(hidden_layer_sizes = (4, ), \n",
    "                        max_iter = max_iter, random_state = 0)\n",
    "   \t# Extract relevant predictions\n",
    "\ty_score = clf.fit(X_train, y_train).predict_proba(X_test)\n",
    "\ty_pred = clf.fit(X_train, y_train).predict(X_test)\n",
    "\n",
    "\t# Get ROC curve metrics\n",
    "\tprint(\"Accuracy for max_iter = %s: %s\" %(\n",
    "      max_iter, accuracy_score(y_test, y_pred)))\n",
    "\tprint(\"AUC for max_iter = %s: %s\" %(\n",
    "      max_iter, roc_auc_score(y_test, y_score[:, 1])))"
   ]
  },
  {
   "cell_type": "code",
   "execution_count": null,
   "metadata": {},
   "outputs": [],
   "source": [
    "# Create and loop over various hidden_layer_sizes configurations\n",
    "hidden_layer_sizes_list = [(4, ), (8, ), (16, )]\n",
    "for hidden_layer_sizes in hidden_layer_sizes_list:\n",
    "\tclf = MLPClassifier(hidden_layer_sizes = hidden_layer_sizes, \n",
    "                        max_iter = 10, random_state = 0)\n",
    "   \t# Extract relevant predictions\n",
    "\ty_score = clf.fit(X_train, y_train).predict_proba(X_test)\n",
    "\ty_pred = clf.fit(X_train, y_train).predict(X_test)\n",
    "\n",
    "\t# Get ROC curve metrics\n",
    "\tprint(\"Accuracy for hidden_layer_sizes = %s: %s\" %(\n",
    "      hidden_layer_sizes, accuracy_score(y_test, y_pred)))\n",
    "\tprint(\"AUC for hidden_layer_sizes = %s: %s\" %(\n",
    "      hidden_layer_sizes, roc_auc_score(y_test, y_score[:, 1])))"
   ]
  },
  {
   "cell_type": "code",
   "execution_count": null,
   "metadata": {},
   "outputs": [],
   "source": [
    "# Create list of hyperparameters \n",
    "max_iter = [10, 20]\n",
    "hidden_layer_sizes = [(8, ), (16, )]\n",
    "param_grid = {'max_iter': max_iter, 'hidden_layer_sizes': hidden_layer_sizes}\n",
    "\n",
    "# Use Grid search CV to find best parameters using 4 jobs\n",
    "mlp = MLPClassifier()\n",
    "clf = GridSearchCV(estimator = mlp, param_grid = param_grid, \n",
    "           scoring = 'roc_auc', n_jobs = 4)\n",
    "clf.fit(X_train, y_train)\n",
    "print(\"Best Score: \")\n",
    "print(clf.best_score_)\n",
    "print(\"Best Estimator: \")\n",
    "print(clf.best_estimator_)   "
   ]
  },
  {
   "cell_type": "code",
   "execution_count": null,
   "metadata": {},
   "outputs": [],
   "source": [
    "# Set up MLP classifier, train and predict\n",
    "X_train, X_test, y_train, y_test = train_test_split(\n",
    "  X, y, test_size = .2, random_state = 0)\n",
    "clf = MLPClassifier(hidden_layer_sizes = (16, ), \n",
    "                    max_iter = 10, random_state = 0)\n",
    "y_pred = clf.fit(X_train, y_train).predict(X_test) \n",
    "\n",
    "# Evaluate precision and recall\n",
    "prec = precision_score(y_test, y_pred, average = 'weighted')\n",
    "recall = recall_score(y_test, y_pred, average = 'weighted')\n",
    "fbeta = fbeta_score(y_test, y_pred, beta = 0.5, average = 'weighted')\n",
    "print(\"Precision: %s, Recall: %s, F-beta score: %s\" %(prec, recall, fbeta))"
   ]
  },
  {
   "cell_type": "code",
   "execution_count": null,
   "metadata": {},
   "outputs": [],
   "source": [
    "# Get precision and total ROI\n",
    "prec = precision_score(y_test, y_pred, average = 'weighted')\n",
    "r = 0.2\n",
    "cost = 0.05 \n",
    "roi = prec * r / cost\n",
    "\n",
    "# Get AUC\n",
    "roc_auc = roc_auc_score(y_test, y_score[:, 1])\n",
    "\n",
    "print(\"Total ROI: %s, Precision: %s, AUC of ROC curve: %s\" %(\n",
    "  roi, prec, roc_auc))"
   ]
  },
  {
   "cell_type": "code",
   "execution_count": null,
   "metadata": {},
   "outputs": [],
   "source": [
    "# Create the list of models in the order below\n",
    "names = ['Random Forest', 'Multi-Layer Perceptron']\n",
    "classifiers = [RandomForestClassifier(), \n",
    "               MLPClassifier(hidden_layer_sizes = (10, ),\n",
    "                             max_iter = 40)]\n",
    "\n",
    "# Produce a confusion matrix for all classifiers\n",
    "for name, classifier in zip(names, classifiers):\n",
    "  print(\"Evaluating classifier: %s\" %(name))\n",
    "  classifier.fit(X_train, y_train)\n",
    "  y_pred = classifier.predict(X_test)\n",
    "  conf_matrix = confusion_matrix(y_test, y_pred)\n",
    "  print(conf_matrix)"
   ]
  },
  {
   "cell_type": "code",
   "execution_count": null,
   "metadata": {},
   "outputs": [],
   "source": [
    "# Create classifiers\n",
    "clfs = [LogisticRegression(), DecisionTreeClassifier(), RandomForestClassifier(), \n",
    "        MLPClassifier(hidden_layer_sizes = (10, ), max_iter = 50)]\n",
    "\n",
    "# Produce all evaluation metrics for each classifier\n",
    "for clf in clfs:\n",
    "  print(\"Evaluating classifier: %s\" %(print_estimator_name(clf)))\n",
    "  y_score = clf.fit(X_train, y_train).predict_proba(X_test)\n",
    "  y_pred = clf.fit(X_train, y_train).predict(X_test)\n",
    "  prec = precision_score(y_test, y_pred, average = 'weighted')\n",
    "  recall = recall_score(y_test, y_pred, average = 'weighted')\n",
    "  fbeta = fbeta_score(y_test, y_pred, beta = 0.5, average = 'weighted')\n",
    "  roc_auc = roc_auc_score(y_test, y_score[:, 1])\n",
    "  print(\"Precision: %s: Recall: %s, F-beta score: %s, AUC of ROC curve: %s\" \n",
    "        %(prec, recall, fbeta, roc_auc))"
   ]
  }
 ],
 "metadata": {
  "kernelspec": {
   "display_name": "Python 3",
   "language": "python",
   "name": "python3"
  },
  "language_info": {
   "codemirror_mode": {
    "name": "ipython",
    "version": 3
   },
   "file_extension": ".py",
   "mimetype": "text/x-python",
   "name": "python",
   "nbconvert_exporter": "python",
   "pygments_lexer": "ipython3",
   "version": "3.7.6"
  }
 },
 "nbformat": 4,
 "nbformat_minor": 4
}
