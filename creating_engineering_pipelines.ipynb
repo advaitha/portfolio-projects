{
 "cells": [
  {
   "cell_type": "markdown",
   "metadata": {},
   "source": [
    "# Building Data Engineering Pipeline"
   ]
  },
  {
   "cell_type": "markdown",
   "metadata": {},
   "source": [
    "+ Singer - The open source standard for writing scripts that move data\n",
    "+ Extract and load with taps and targets\n",
    "+ communicate over streams\n",
    "    - Schema\n",
    "    - State\n",
    "    - Record"
   ]
  },
  {
   "cell_type": "code",
   "execution_count": null,
   "metadata": {},
   "outputs": [],
   "source": [
    "import singer\n",
    "singer.write_schema(schema = json_schema,\n",
    "                   stream_name = 'DC_employees',\n",
    "                   key_properties = ['id']) # key_property is primary key"
   ]
  },
  {
   "cell_type": "code",
   "execution_count": null,
   "metadata": {},
   "outputs": [],
   "source": [
    "import json\n",
    "json.dumps(json_schema[\"properties\"][\"age\"]) # Transforms object to a string\n",
    "\n",
    "with open(\"foo.json\", mode = \"w\") as fh:\n",
    "    json.dump(obj=json_schema, fp = fh) # writes the json objet to a file"
   ]
  },
  {
   "cell_type": "code",
   "execution_count": null,
   "metadata": {},
   "outputs": [],
   "source": [
    "# Import json\n",
    "import json\n",
    "\n",
    "database_address = {\n",
    "  \"host\": \"10.0.0.5\",\n",
    "  \"port\": 8456\n",
    "}\n",
    "\n",
    "# Open the configuration file in writable mode\n",
    "with open(\"database_config.json\", mode= \"w\") as fh:\n",
    "  # Serialize the object in this file handle\n",
    "  json.dump(obj=database_address, fp=fh) "
   ]
  },
  {
   "cell_type": "code",
   "execution_count": null,
   "metadata": {},
   "outputs": [],
   "source": [
    "# Complete the JSON schema\n",
    "schema = {'properties': {\n",
    "    'brand': {'type': 'string'},\n",
    "    'model': {'type': 'string'},\n",
    "    'price': {'type': 'number'},\n",
    "    'currency': {'type': 'string'},\n",
    "    'quantity': {'type': 'number', 'minimum': 1},  \n",
    "    'date': {'type': 'string', 'format': 'date'},\n",
    "    'countrycode': {'type': 'string', 'pattern': \"^[A-Z]{2}$\"}, \n",
    "    'store_name': {'type': 'string'}}}\n",
    "\n",
    "# Write the schema\n",
    "singer.write_schema(stream_name='products', schema=schema, key_properties=[])\n",
    "fixed_dict = {\"type\":\"RECORD\", \"stream\":\"DC_employees\"}\n",
    "record_msg = {**fixed_dict, \"record\":dict(zip(columns, users.pop()))}\n",
    "print(json.dumps(record_msg))\n",
    "singer.write_records(stream_name = 'foo', records = ...)"
   ]
  },
  {
   "cell_type": "code",
   "execution_count": null,
   "metadata": {},
   "outputs": [],
   "source": [
    "# linux and mac\n",
    "python my_tap.py | target-csv\n",
    "python my_tap.py | target-csv --config userconfig.cfg\n",
    "my-packaged-tap | target-csv"
   ]
  }
 ],
 "metadata": {
  "kernelspec": {
   "display_name": "Python 3",
   "language": "python",
   "name": "python3"
  },
  "language_info": {
   "codemirror_mode": {
    "name": "ipython",
    "version": 3
   },
   "file_extension": ".py",
   "mimetype": "text/x-python",
   "name": "python",
   "nbconvert_exporter": "python",
   "pygments_lexer": "ipython3",
   "version": "3.7.6"
  }
 },
 "nbformat": 4,
 "nbformat_minor": 4
}
