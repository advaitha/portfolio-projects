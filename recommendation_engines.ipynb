{
 "cells": [
  {
   "cell_type": "markdown",
   "metadata": {},
   "source": [
    "# Recommendation Engines"
   ]
  },
  {
   "cell_type": "markdown",
   "metadata": {},
   "source": [
    "+ Implicit Feedback\n",
    "+ Explicit Feedback\n",
    "+ Users should have given multiple ratings and service should have received multiple ratins from many different customers"
   ]
  },
  {
   "cell_type": "markdown",
   "metadata": {},
   "source": [
    "#### Non-personalized recommendations based on number of times interacted and average ratings"
   ]
  },
  {
   "cell_type": "code",
   "execution_count": null,
   "metadata": {},
   "outputs": [],
   "source": [
    "book_df['book'].value_counts()\n",
    "print(book_df.value_counts().index) # Get the names of the books"
   ]
  },
  {
   "cell_type": "code",
   "execution_count": null,
   "metadata": {},
   "outputs": [],
   "source": [
    "# Create a list of only movies appearing > 50 times in the dataset\n",
    "movie_popularity = user_ratings_df[\"title\"].value_counts()\n",
    "popular_movies = movie_popularity[movie_popularity > 50].index\n",
    "\n",
    "# Use this popular_movies list to filter the original DataFrame\n",
    "popular_movies_rankings =  user_ratings_df[user_ratings_df[\"title\"].isin(popular_movies)]\n",
    "\n",
    "# Find the average rating given to these frequently watched films\n",
    "popular_movies_average_rankings = popular_movies_rankings[[\"title\", \"rating\"]].groupby('title').mean()\n",
    "print(popular_movies_average_rankings.sort_values(by=\"rating\", ascending=False).head())"
   ]
  },
  {
   "cell_type": "markdown",
   "metadata": {},
   "source": [
    "#### Non-personalized recommendations based on commonly occuring items"
   ]
  },
  {
   "cell_type": "code",
   "execution_count": null,
   "metadata": {},
   "outputs": [],
   "source": [
    "# permutationss (list, length_of_permutations) Generates iterable objects containing all permultations\n",
    "# list converts this object to a usable list\n",
    "#pd.DataFrame converts the list to a DataFrame\n",
    "\n",
    "from itertools import permutations\n",
    "\n",
    "def create_pairs(x):\n",
    "    pairs = pd.DataFrame(list(permutations(x.values, 2)), \n",
    "                         columns = ['book_a','book_b'])\n",
    "    return pairs    "
   ]
  },
  {
   "cell_type": "code",
   "execution_count": null,
   "metadata": {},
   "outputs": [],
   "source": [
    "# Applying the function to the data\n",
    "book_pairs = book_df.groupby('userid')['book_title'].apply(create_pairs)\n",
    "# Drop the index\n",
    "book_pairs = book_pairs.reset_index(drop = True)"
   ]
  },
  {
   "cell_type": "code",
   "execution_count": null,
   "metadata": {},
   "outputs": [],
   "source": [
    "# counting the pairings\n",
    "pair_counts = book_pairs.groupby['book_a','book_b'].size()\n",
    "\n",
    "# convert it into a dataframe\n",
    "pair_counts_df = pair_counts.to_frame(name = 'size').reset_index()\n",
    "\n",
    "# sort the values\n",
    "pair_counts_sorted = pair_counts_df.sort_values('size', ascending = False)\n",
    "\n",
    "# Filter for a book\n",
    "lord_of_rings = pair_counts_sorted[pair_counts_sorted['book_a'] == 'Lord of the Rings']"
   ]
  },
  {
   "cell_type": "code",
   "execution_count": null,
   "metadata": {},
   "outputs": [],
   "source": [
    "import matplotlib.pyplot as plt\n",
    "lord_of_rings.plot.bar(x = 'book_b')\n",
    "plt.show()"
   ]
  }
 ],
 "metadata": {
  "kernelspec": {
   "display_name": "Python 3",
   "language": "python",
   "name": "python3"
  },
  "language_info": {
   "codemirror_mode": {
    "name": "ipython",
    "version": 3
   },
   "file_extension": ".py",
   "mimetype": "text/x-python",
   "name": "python",
   "nbconvert_exporter": "python",
   "pygments_lexer": "ipython3",
   "version": "3.7.6"
  }
 },
 "nbformat": 4,
 "nbformat_minor": 4
}
